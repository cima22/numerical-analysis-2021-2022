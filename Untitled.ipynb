{
 "cells": [
  {
   "cell_type": "code",
   "execution_count": 20,
   "id": "bf64b9d1",
   "metadata": {},
   "outputs": [],
   "source": [
    "from numpy import *\n",
    "from matplotlib.pyplot import *"
   ]
  },
  {
   "cell_type": "code",
   "execution_count": 21,
   "id": "e1a07c6f",
   "metadata": {},
   "outputs": [],
   "source": [
    "def finDif(omega,f,n,bc):\n",
    "    \"\"\"\n",
    "    Function returning finite different matrix for fourth order difference approximation\n",
    "    of second order derivative. \n",
    "    \n",
    "    \n",
    "    info: Given a one dimensional PDE of the form:\n",
    "    \n",
    "                            -u''(x) = f(x) , insiede boundary \n",
    "                            u(x) = 0 , in boundary\n",
    "                            \n",
    "          The function returns a numpy 2d array A and \n",
    "          a numpy 1d array b such that:\n",
    "          \n",
    "                              A * u = b\n",
    "        \n",
    "          where u is the solution vector to the PDE\n",
    "          problem.\n",
    "          \n",
    "    additional: The function uses linear discretization points \n",
    "                in the domain of the PDE. \n",
    "                \n",
    "    example:    omega = [0,pi]         # domain interval\n",
    "                f = lambda x : sin(x)\n",
    "                n=400                  # discretization points\n",
    "                bc = [0,0]             # boundary conditions\n",
    "                \n",
    "                A, b = finDif(omega, f, n, bc)  # apply function\n",
    "                u = numpy.linalg.solve(A, b)    # solving linear system\n",
    "                x = numpy.linspace(omega[0], omega[1], num = numpy.shape(u)[0]) # discretization points\n",
    "                plot(x, u)  # plotting the solution\n",
    "                \n",
    "    \"\"\"\n",
    "    \n",
    "    h = (omega[1] - omega[0]) / ( n - 1 )     # choosing the step size in the interval omega\n",
    "    x_i = array([i*h for i in range(0,n)])    # discretization points in the interval omega\n",
    "    b = array(f(x_i))                         # calculating the function at discretization points\n",
    "    b[0], b[n-1] = bc                         # setting boundary conditions         \n",
    "    A = diag([-1 for i in range(0,n-2)], -2)  \\\n",
    "    + diag([16 for i in range(0,n-1)], -1)    \\\n",
    "    + diag([-30 for i in range(0,n)])         \\\n",
    "    + diag([16 for i in range(0,n-1)], 1)     \\\n",
    "    + diag([-1 for i in range(0,n-2)], 2)     # creating the A matrix\n",
    "    return - A / (12*(h**2)), b"
   ]
  },
  {
   "cell_type": "code",
   "execution_count": 22,
   "id": "556e756d",
   "metadata": {},
   "outputs": [],
   "source": [
    "omega = [0,pi]\n",
    "f = lambda x : sin(x)\n",
    "n=6\n",
    "bc = [0,0]\n",
    "A, b = finDif(omega, f, n, bc)"
   ]
  },
  {
   "cell_type": "code",
   "execution_count": 23,
   "id": "9fe48873",
   "metadata": {},
   "outputs": [
    {
     "data": {
      "text/plain": [
       "array([[ 6.33257398, -3.37737279,  0.2110858 ,  0.        ,  0.        ,\n",
       "         0.        ],\n",
       "       [-3.37737279,  6.33257398, -3.37737279,  0.2110858 ,  0.        ,\n",
       "         0.        ],\n",
       "       [ 0.2110858 , -3.37737279,  6.33257398, -3.37737279,  0.2110858 ,\n",
       "         0.        ],\n",
       "       [ 0.        ,  0.2110858 , -3.37737279,  6.33257398, -3.37737279,\n",
       "         0.2110858 ],\n",
       "       [ 0.        ,  0.        ,  0.2110858 , -3.37737279,  6.33257398,\n",
       "        -3.37737279],\n",
       "       [ 0.        ,  0.        ,  0.        ,  0.2110858 , -3.37737279,\n",
       "         6.33257398]])"
      ]
     },
     "execution_count": 23,
     "metadata": {},
     "output_type": "execute_result"
    }
   ],
   "source": [
    "A"
   ]
  },
  {
   "cell_type": "code",
   "execution_count": 24,
   "id": "e6a469d9",
   "metadata": {},
   "outputs": [
    {
     "data": {
      "text/plain": [
       "array([0.        , 0.58778525, 0.95105652, 0.95105652, 0.58778525,\n",
       "       0.        ])"
      ]
     },
     "execution_count": 24,
     "metadata": {},
     "output_type": "execute_result"
    }
   ],
   "source": [
    "b"
   ]
  },
  {
   "cell_type": "code",
   "execution_count": 25,
   "id": "e86ade51",
   "metadata": {},
   "outputs": [
    {
     "data": {
      "text/plain": [
       "array([0.56264417, 1.14953806, 1.51328367, 1.51328367, 1.14953806,\n",
       "       0.56264417])"
      ]
     },
     "execution_count": 25,
     "metadata": {},
     "output_type": "execute_result"
    }
   ],
   "source": [
    "x = linalg.solve(A,b)\n",
    "x"
   ]
  },
  {
   "cell_type": "code",
   "execution_count": 29,
   "id": "7c41344c",
   "metadata": {},
   "outputs": [
    {
     "data": {
      "text/plain": [
       "[<matplotlib.lines.Line2D at 0x7ff6cb882350>]"
      ]
     },
     "execution_count": 29,
     "metadata": {},
     "output_type": "execute_result"
    },
    {
     "data": {
      "image/png": "[encoded data removed]",
      "text/plain": [
       "<Figure size 432x288 with 1 Axes>"
      ]
     },
     "metadata": {
      "needs_background": "light"
     },
     "output_type": "display_data"
    }
   ],
   "source": [
    "omega = [0,pi]\n",
    "f = lambda x : sin(x)\n",
    "n=400\n",
    "bc = [0,100]\n",
    "A, b = finDif(omega, f, n, bc)\n",
    "u = linalg.solve(A,b)\n",
    "plot(np.linspace(omega[0],omega[1],n),u)"
   ]
  },
  {
   "cell_type": "code",
   "execution_count": 30,
   "id": "6aec315d",
   "metadata": {},
   "outputs": [
    {
     "data": {
      "text/plain": [
       "array([0.00000000e+00, 7.87358444e-03, 1.57466808e-02, 2.36188009e-02,\n",
       "       3.14894568e-02, 3.93581605e-02, 4.72244243e-02, 5.50877604e-02,\n",
       "       6.29476813e-02, 7.08036999e-02, 7.86553291e-02, 8.65020820e-02,\n",
       "       9.43434724e-02, 1.02179014e-01, 1.10008221e-01, 1.17830608e-01,\n",
       "       1.25645691e-01, 1.33452984e-01, 1.41252003e-01, 1.49042266e-01,\n",
       "       1.56823289e-01, 1.64594590e-01, 1.72355687e-01, 1.80106099e-01,\n",
       "       1.87845346e-01, 1.95572947e-01, 2.03288424e-01, 2.10991297e-01,\n",
       "       2.18681091e-01, 2.26357328e-01, 2.34019532e-01, 2.41667228e-01,\n",
       "       2.49299942e-01, 2.56917201e-01, 2.64518532e-01, 2.72103465e-01,\n",
       "       2.79671529e-01, 2.87222255e-01, 2.94755174e-01, 3.02269821e-01,\n",
       "       3.09765729e-01, 3.17242433e-01, 3.24699469e-01, 3.32136376e-01,\n",
       "       3.39552693e-01, 3.46947959e-01, 3.54321717e-01, 3.61673508e-01,\n",
       "       3.69002878e-01, 3.76309372e-01, 3.83592537e-01, 3.90851921e-01,\n",
       "       3.98087075e-01, 4.05297549e-01, 4.12482897e-01, 4.19642674e-01,\n",
       "       4.26776435e-01, 4.33883739e-01, 4.40964144e-01, 4.48017212e-01,\n",
       "       4.55042506e-01, 4.62039590e-01, 4.69008029e-01, 4.75947393e-01,\n",
       "       4.82857251e-01, 4.89737174e-01, 4.96586737e-01, 5.03405514e-01,\n",
       "       5.10193083e-01, 5.16949022e-01, 5.23672914e-01, 5.30364341e-01,\n",
       "       5.37022889e-01, 5.43648144e-01, 5.50239696e-01, 5.56797136e-01,\n",
       "       5.63320058e-01, 5.69808058e-01, 5.76260732e-01, 5.82677682e-01,\n",
       "       5.89058509e-01, 5.95402818e-01, 6.01710215e-01, 6.07980309e-01,\n",
       "       6.14212713e-01, 6.20407038e-01, 6.26562902e-01, 6.32679923e-01,\n",
       "       6.38757721e-01, 6.44795920e-01, 6.50794145e-01, 6.56752024e-01,\n",
       "       6.62669189e-01, 6.68545272e-01, 6.74379909e-01, 6.80172738e-01,\n",
       "       6.85923400e-01, 6.91631539e-01, 6.97296801e-01, 7.02918835e-01,\n",
       "       7.08497291e-01, 7.14031825e-01, 7.19522092e-01, 7.24967754e-01,\n",
       "       7.30368472e-01, 7.35723911e-01, 7.41033739e-01, 7.46297627e-01,\n",
       "       7.51515250e-01, 7.56686282e-01, 7.61810405e-01, 7.66887299e-01,\n",
       "       7.71916651e-01, 7.76898148e-01, 7.81831482e-01, 7.86716348e-01,\n",
       "       7.91552441e-01, 7.96339462e-01, 8.01077115e-01, 8.05765106e-01,\n",
       "       8.10403144e-01, 8.14990941e-01, 8.19528214e-01, 8.24014680e-01,\n",
       "       8.28450063e-01, 8.32834086e-01, 8.37166478e-01, 8.41446971e-01,\n",
       "       8.45675299e-01, 8.49851200e-01, 8.53974414e-01, 8.58044688e-01,\n",
       "       8.62061767e-01, 8.66025404e-01, 8.69935352e-01, 8.73791369e-01,\n",
       "       8.77593215e-01, 8.81340656e-01, 8.85033459e-01, 8.88671395e-01,\n",
       "       8.92254239e-01, 8.95781767e-01, 8.99253763e-01, 9.02670009e-01,\n",
       "       9.06030296e-01, 9.09334413e-01, 9.12582157e-01, 9.15773327e-01,\n",
       "       9.18907723e-01, 9.21985153e-01, 9.25005424e-01, 9.27968351e-01,\n",
       "       9.30873749e-01, 9.33721438e-01, 9.36511241e-01, 9.39242986e-01,\n",
       "       9.41916504e-01, 9.44531628e-01, 9.47088197e-01, 9.49586051e-01,\n",
       "       9.52025036e-01, 9.54405002e-01, 9.56725800e-01, 9.58987286e-01,\n",
       "       9.61189320e-01, 9.63331766e-01, 9.65414492e-01, 9.67437367e-01,\n",
       "       9.69400266e-01, 9.71303068e-01, 9.73145655e-01, 9.74927912e-01,\n",
       "       9.76649730e-01, 9.78311000e-01, 9.79911621e-01, 9.81451493e-01,\n",
       "       9.82930521e-01, 9.84348612e-01, 9.85705680e-01, 9.87001640e-01,\n",
       "       9.88236410e-01, 9.89409916e-01, 9.90522085e-01, 9.91572846e-01,\n",
       "       9.92562136e-01, 9.93489892e-01, 9.94356058e-01, 9.95160579e-01,\n",
       "       9.95903406e-01, 9.96584493e-01, 9.97203797e-01, 9.97761280e-01,\n",
       "       9.98256908e-01, 9.98690650e-01, 9.99062478e-01, 9.99372370e-01,\n",
       "       9.99620307e-01, 9.99806273e-01, 9.99930257e-01, 9.99992251e-01,\n",
       "       9.99992251e-01, 9.99930257e-01, 9.99806273e-01, 9.99620307e-01,\n",
       "       9.99372370e-01, 9.99062478e-01, 9.98690650e-01, 9.98256908e-01,\n",
       "       9.97761280e-01, 9.97203797e-01, 9.96584493e-01, 9.95903406e-01,\n",
       "       9.95160579e-01, 9.94356058e-01, 9.93489892e-01, 9.92562136e-01,\n",
       "       9.91572846e-01, 9.90522085e-01, 9.89409916e-01, 9.88236410e-01,\n",
       "       9.87001640e-01, 9.85705680e-01, 9.84348612e-01, 9.82930521e-01,\n",
       "       9.81451493e-01, 9.79911621e-01, 9.78311000e-01, 9.76649730e-01,\n",
       "       9.74927912e-01, 9.73145655e-01, 9.71303068e-01, 9.69400266e-01,\n",
       "       9.67437367e-01, 9.65414492e-01, 9.63331766e-01, 9.61189320e-01,\n",
       "       9.58987286e-01, 9.56725800e-01, 9.54405002e-01, 9.52025036e-01,\n",
       "       9.49586051e-01, 9.47088197e-01, 9.44531628e-01, 9.41916504e-01,\n",
       "       9.39242986e-01, 9.36511241e-01, 9.33721438e-01, 9.30873749e-01,\n",
       "       9.27968351e-01, 9.25005424e-01, 9.21985153e-01, 9.18907723e-01,\n",
       "       9.15773327e-01, 9.12582157e-01, 9.09334413e-01, 9.06030296e-01,\n",
       "       9.02670009e-01, 8.99253763e-01, 8.95781767e-01, 8.92254239e-01,\n",
       "       8.88671395e-01, 8.85033459e-01, 8.81340656e-01, 8.77593215e-01,\n",
       "       8.73791369e-01, 8.69935352e-01, 8.66025404e-01, 8.62061767e-01,\n",
       "       8.58044688e-01, 8.53974414e-01, 8.49851200e-01, 8.45675299e-01,\n",
       "       8.41446971e-01, 8.37166478e-01, 8.32834086e-01, 8.28450063e-01,\n",
       "       8.24014680e-01, 8.19528214e-01, 8.14990941e-01, 8.10403144e-01,\n",
       "       8.05765106e-01, 8.01077115e-01, 7.96339462e-01, 7.91552441e-01,\n",
       "       7.86716348e-01, 7.81831482e-01, 7.76898148e-01, 7.71916651e-01,\n",
       "       7.66887299e-01, 7.61810405e-01, 7.56686282e-01, 7.51515250e-01,\n",
       "       7.46297627e-01, 7.41033739e-01, 7.35723911e-01, 7.30368472e-01,\n",
       "       7.24967754e-01, 7.19522092e-01, 7.14031825e-01, 7.08497291e-01,\n",
       "       7.02918835e-01, 6.97296801e-01, 6.91631539e-01, 6.85923400e-01,\n",
       "       6.80172738e-01, 6.74379909e-01, 6.68545272e-01, 6.62669189e-01,\n",
       "       6.56752024e-01, 6.50794145e-01, 6.44795920e-01, 6.38757721e-01,\n",
       "       6.32679923e-01, 6.26562902e-01, 6.20407038e-01, 6.14212713e-01,\n",
       "       6.07980309e-01, 6.01710215e-01, 5.95402818e-01, 5.89058509e-01,\n",
       "       5.82677682e-01, 5.76260732e-01, 5.69808058e-01, 5.63320058e-01,\n",
       "       5.56797136e-01, 5.50239696e-01, 5.43648144e-01, 5.37022889e-01,\n",
       "       5.30364341e-01, 5.23672914e-01, 5.16949022e-01, 5.10193083e-01,\n",
       "       5.03405514e-01, 4.96586737e-01, 4.89737174e-01, 4.82857251e-01,\n",
       "       4.75947393e-01, 4.69008029e-01, 4.62039590e-01, 4.55042506e-01,\n",
       "       4.48017212e-01, 4.40964144e-01, 4.33883739e-01, 4.26776435e-01,\n",
       "       4.19642674e-01, 4.12482897e-01, 4.05297549e-01, 3.98087075e-01,\n",
       "       3.90851921e-01, 3.83592537e-01, 3.76309372e-01, 3.69002878e-01,\n",
       "       3.61673508e-01, 3.54321717e-01, 3.46947959e-01, 3.39552693e-01,\n",
       "       3.32136376e-01, 3.24699469e-01, 3.17242433e-01, 3.09765729e-01,\n",
       "       3.02269821e-01, 2.94755174e-01, 2.87222255e-01, 2.79671529e-01,\n",
       "       2.72103465e-01, 2.64518532e-01, 2.56917201e-01, 2.49299942e-01,\n",
       "       2.41667228e-01, 2.34019532e-01, 2.26357328e-01, 2.18681091e-01,\n",
       "       2.10991297e-01, 2.03288424e-01, 1.95572947e-01, 1.87845346e-01,\n",
       "       1.80106099e-01, 1.72355687e-01, 1.64594590e-01, 1.56823289e-01,\n",
       "       1.49042266e-01, 1.41252003e-01, 1.33452984e-01, 1.25645691e-01,\n",
       "       1.17830608e-01, 1.10008221e-01, 1.02179014e-01, 9.43434724e-02,\n",
       "       8.65020820e-02, 7.86553291e-02, 7.08036999e-02, 6.29476813e-02,\n",
       "       5.50877604e-02, 4.72244243e-02, 3.93581605e-02, 3.14894568e-02,\n",
       "       2.36188009e-02, 1.57466808e-02, 7.87358444e-03, 1.00000000e+02])"
      ]
     },
     "execution_count": 30,
     "metadata": {},
     "output_type": "execute_result"
    }
   ],
   "source": [
    "b"
   ]
  }
 ],
 "metadata": {
  "kernelspec": {
   "display_name": "Python 3 (ipykernel)",
   "language": "python",
   "name": "python3"
  },
  "language_info": {
   "codemirror_mode": {
    "name": "ipython",
    "version": 3
   },
   "file_extension": ".py",
   "mimetype": "text/x-python",
   "name": "python",
   "nbconvert_exporter": "python",
   "pygments_lexer": "ipython3",
   "version": "3.10.4"
  }
 },
 "nbformat": 4,
 "nbformat_minor": 5
}

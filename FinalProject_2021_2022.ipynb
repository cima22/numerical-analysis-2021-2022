{
 "cells": [
  {
   "cell_type": "code",
   "execution_count": 3,
   "id": "3fe94688",
   "metadata": {
    "id": "3fe94688"
   },
   "outputs": [],
   "source": [
    "%matplotlib inline\n",
    "from numpy import *\n",
    "from sympy import *\n",
    "from matplotlib.pyplot import *\n",
    "from IPython.display import display, Markdown, Latex"
   ]
  },
  {
   "cell_type": "code",
   "execution_count": 23,
   "id": "2yUETvkozE7b",
   "metadata": {
    "id": "2yUETvkozE7b"
   },
   "outputs": [],
   "source": [
    "# TODO:\n",
    "# insert hypotesis verification in more or less every method\n",
    "# method to see if the gradients method converges (s.p.d)\n",
    "# comment the code\n",
    "# system all the workflow"
   ]
  },
  {
   "cell_type": "markdown",
   "id": "8184faab",
   "metadata": {
    "id": "8184faab"
   },
   "source": [
    "Consider the following one-dimensional PDE:\n",
    "$$\n",
    "-u_{xx}(x) = f(x)\\quad\\mathrm{ in }\\ \\Omega = (0, \\pi)\n",
    "$$\n",
    "$$\n",
    "u(x) = 0, \\quad\\mathrm{ on }\\ \\partial\\Omega = \\{0, \\pi\\}\n",
    "$$\n",
    "\n",
    "Given the following $4^{th}$ order finite difference approximation of the second order derivative:\n",
    "\n",
    "$$u_{xx}(x_i) = \\frac{-u_{i-2}+16u_{i-1}-30u_i+16u_{i+1}-u_{i+2}}{12h^2}$$\n",
    "\n",
    "Implement a function that given the domain interval, the forcing function, the number of discretization points, the boundary conditions, returns the matrix $A$ and the right hand side $b$."
   ]
  },
  {
   "cell_type": "code",
   "execution_count": 4,
   "id": "1c562f13",
   "metadata": {
    "id": "1c562f13"
   },
   "outputs": [],
   "source": [
    "def finDif(omega,f,n,bc):\n",
    "    \"\"\"\n",
    "    Return the mass matrix for the finite difference approximation of the prblem -u_{xx}(x) = f(x).\n",
    "    \n",
    "    Parameters\n",
    "    ----------\n",
    "    omega : list\n",
    "        Interval of the problem. It is a list of two elements, where omega[0] is the lower bound of the interval and\n",
    "        omega[1] is the upper bound of the interval.\n",
    "    f : function\n",
    "        Forcing function of the problem\n",
    "    n : integer\n",
    "        Number of discretization points\n",
    "    bc : list\n",
    "        Boundary conditions of the problem. It is a list of two elements containing the values of the boundary conditions\n",
    "        \n",
    "    Returns\n",
    "    -------\n",
    "    out : tuple\n",
    "        Tuple containing the matrix and the known-term vector\n",
    "    \"\"\"\n",
    "    \n",
    "    A = zeros((n,n))\n",
    "    b = zeros(n)\n",
    "    h = (omega[1] - omega[0]) / (n - 1)\n",
    "    discr_points = [i * h for i in range(n)]\n",
    "    \n",
    "    b[0], b[1] = bc\n",
    "     \n",
    "    A = diag(ones(n-2),-2) + diag(-16*ones(n-1),-1) + diag(30*ones(n)) + diag(-16*ones(n-1),1) + diag(ones(n-2),2)\n",
    "    \n",
    "    f = vectorize(f)\n",
    "    b[1:n-1] = f(discr_points[1:n-1])\n",
    "    \n",
    "    return A / (12*(h)**2), b"
   ]
  },
  {
   "cell_type": "markdown",
   "id": "c21bb21e",
   "metadata": {
    "id": "c21bb21e"
   },
   "source": [
    "Call the function using:"
   ]
  },
  {
   "cell_type": "code",
   "execution_count": 5,
   "id": "23af8831",
   "metadata": {
    "id": "23af8831"
   },
   "outputs": [],
   "source": [
    "omega = [0,pi]\n",
    "f = lambda x : sin(x)\n",
    "n=100\n",
    "bc = [0,0]\n",
    "A, b = finDif(omega, f, n, bc)\n",
    "\n",
    "A[0,:] = zeros(n)\n",
    "A[-1,:] = zeros(n)\n",
    "A[0,0] = A[-1,-1] = 1"
   ]
  },
  {
   "cell_type": "markdown",
   "id": "4f8a7c6f",
   "metadata": {
    "id": "4f8a7c6f"
   },
   "source": [
    "Implement two functions that compute the LU and the Cholesky factorization of the system matrix $A$"
   ]
  },
  {
   "cell_type": "code",
   "execution_count": 6,
   "id": "47468a37",
   "metadata": {
    "id": "47468a37"
   },
   "outputs": [],
   "source": [
    "def LU(A, pivoting = True):\n",
    "    \"\"\"\n",
    "    Return the LU factorization of the system matrix A.\n",
    "    \n",
    "    Parameters\n",
    "    ----------\n",
    "    A : numpy.array\n",
    "        2-d numpy.array representing the matrix for which to compute the factorization.\n",
    "        \n",
    "    Returns\n",
    "    -------\n",
    "    out : tuple\n",
    "        Tuple containing two elements: the lower-triangular matrix and the upper-trinagular matrix computed by the\n",
    "        LU factorization.\n",
    "    \"\"\"\n",
    "    \n",
    "    n = len(A)\n",
    "    L = zeros((n,n), dtype=float)\n",
    "    U = A.copy().astype(float)\n",
    "    P = eye(n)\n",
    "    \n",
    "    for k in range(n):\n",
    "        if pivoting and U[k,k] == 0 and k < n-1:\n",
    "            for w in range(k+1,n):\n",
    "                if U[w,w] != 0:\n",
    "                    U[[k,w]] = U[[w,k]]\n",
    "                    L[[k,w]] = L[[w,k]]\n",
    "                    P_temp = eye(n)\n",
    "                    P_temp[[k,w]] = P_temp[[w,k]]\n",
    "                    P = dot(P,P_temp)\n",
    "    \n",
    "        L[k+1:n,k] = U[k+1:n,k] / U[k,k]\n",
    "        for i in range(k+1,n):\n",
    "            for j in range(k,n):\n",
    "                U[i,j] -= L[i,k] * U[k,j]\n",
    "    fill_diagonal(L,1)\n",
    "    \n",
    "    if pivoting:\n",
    "        return L, U, P\n",
    "    \n",
    "    return L, U\n",
    "\n",
    "L, U, P = LU(A)"
   ]
  },
  {
   "cell_type": "code",
   "execution_count": 7,
   "id": "4aca8c50",
   "metadata": {},
   "outputs": [
    {
     "data": {
      "text/plain": [
       "True"
      ]
     },
     "execution_count": 7,
     "metadata": {},
     "output_type": "execute_result"
    }
   ],
   "source": [
    "ex = array([[1,2,3],\\\n",
    "            [2,4,5],\\\n",
    "            [7,8,9]])\n",
    "L, U, P = LU(ex)\n",
    "allclose(P.dot(ex),L.dot(U))"
   ]
  },
  {
   "cell_type": "code",
   "execution_count": 8,
   "id": "193ebfed",
   "metadata": {
    "id": "193ebfed"
   },
   "outputs": [
    {
     "ename": "AssertionError",
     "evalue": "The matrix is not symmetric",
     "output_type": "error",
     "traceback": [
      "\u001b[1;31m---------------------------------------------------------------------------\u001b[0m",
      "\u001b[1;31mAssertionError\u001b[0m                            Traceback (most recent call last)",
      "\u001b[1;32m<ipython-input-8-c788c79730b7>\u001b[0m in \u001b[0;36m<module>\u001b[1;34m\u001b[0m\n\u001b[0;32m     30\u001b[0m     \u001b[1;32mreturn\u001b[0m \u001b[0mL\u001b[0m\u001b[1;33m.\u001b[0m\u001b[0mtranspose\u001b[0m\u001b[1;33m(\u001b[0m\u001b[1;33m)\u001b[0m\u001b[1;33m,\u001b[0m \u001b[0mL\u001b[0m\u001b[1;33m\u001b[0m\u001b[1;33m\u001b[0m\u001b[0m\n\u001b[0;32m     31\u001b[0m \u001b[1;33m\u001b[0m\u001b[0m\n\u001b[1;32m---> 32\u001b[1;33m \u001b[0mHT\u001b[0m\u001b[1;33m,\u001b[0m \u001b[0mH\u001b[0m \u001b[1;33m=\u001b[0m \u001b[0mcholesky\u001b[0m\u001b[1;33m(\u001b[0m\u001b[0mA\u001b[0m\u001b[1;33m)\u001b[0m\u001b[1;33m\u001b[0m\u001b[1;33m\u001b[0m\u001b[0m\n\u001b[0m\u001b[0;32m     33\u001b[0m \u001b[1;33m\u001b[0m\u001b[0m\n\u001b[0;32m     34\u001b[0m \u001b[0mallclose\u001b[0m\u001b[1;33m(\u001b[0m\u001b[0mA\u001b[0m\u001b[1;33m,\u001b[0m\u001b[0mHT\u001b[0m\u001b[1;33m.\u001b[0m\u001b[0mdot\u001b[0m\u001b[1;33m(\u001b[0m\u001b[0mH\u001b[0m\u001b[1;33m)\u001b[0m\u001b[1;33m)\u001b[0m\u001b[1;33m\u001b[0m\u001b[1;33m\u001b[0m\u001b[0m\n",
      "\u001b[1;32m<ipython-input-8-c788c79730b7>\u001b[0m in \u001b[0;36mcholesky\u001b[1;34m(A)\u001b[0m\n\u001b[0;32m     16\u001b[0m     \"\"\"\n\u001b[0;32m     17\u001b[0m \u001b[1;33m\u001b[0m\u001b[0m\n\u001b[1;32m---> 18\u001b[1;33m     \u001b[1;32massert\u001b[0m \u001b[0mallclose\u001b[0m\u001b[1;33m(\u001b[0m\u001b[0mA\u001b[0m\u001b[1;33m,\u001b[0m \u001b[0mA\u001b[0m\u001b[1;33m.\u001b[0m\u001b[0mT\u001b[0m\u001b[1;33m)\u001b[0m\u001b[1;33m,\u001b[0m \u001b[1;34m\"The matrix is not symmetric\"\u001b[0m\u001b[1;33m\u001b[0m\u001b[1;33m\u001b[0m\u001b[0m\n\u001b[0m\u001b[0;32m     19\u001b[0m \u001b[1;33m\u001b[0m\u001b[0m\n\u001b[0;32m     20\u001b[0m     \u001b[0mn\u001b[0m \u001b[1;33m=\u001b[0m \u001b[0mlen\u001b[0m\u001b[1;33m(\u001b[0m\u001b[0mA\u001b[0m\u001b[1;33m)\u001b[0m\u001b[1;33m\u001b[0m\u001b[1;33m\u001b[0m\u001b[0m\n",
      "\u001b[1;31mAssertionError\u001b[0m: The matrix is not symmetric"
     ]
    }
   ],
   "source": [
    "def cholesky(A):\n",
    "    \"\"\"\n",
    "    Return the Cholesky factorization of the system matrix A.\n",
    "    \n",
    "    Parameters\n",
    "    ----------\n",
    "    A : numpy.array\n",
    "        2-d numpy.array representing the matrix for which to compute the factorization.\n",
    "        The matrix must be symmetric and positive definite.\n",
    "        \n",
    "    Returns\n",
    "    -------\n",
    "    out : tuple\n",
    "        Tuple containing two elements: the lower-triangular matrix and the upper-trinagular matrix computed by the\n",
    "        Cholesky factorization (one is the transpose of the other).\n",
    "    \"\"\"\n",
    "    \n",
    "    assert allclose(A, A.T), \"The matrix is not symmetric\"\n",
    "    \n",
    "    n = len(A)\n",
    "    L = zeros((n,n), dtype=float)\n",
    "    \n",
    "    L[0,0] = A[0,0]**.5\n",
    "    for j in range(1,n):\n",
    "        for i in range(0,j):\n",
    "            L[i,j] = (A[j,i] - sum(L[:i,j]*L[:i,i])) / L[i,i]\n",
    "    \n",
    "        L[j,j] = (A[j,j] - sum(L[:j,j]**2))**.5\n",
    "\n",
    "    return L.transpose(), L\n",
    "\n",
    "HT, H = cholesky(A)\n",
    "\n",
    "allclose(A,HT.dot(H))"
   ]
  },
  {
   "cell_type": "markdown",
   "id": "41eb8436",
   "metadata": {
    "id": "41eb8436"
   },
   "source": [
    "Implement forward and backward substitution functions to exploit the developed factorization methods to solve the derived linear system of equations."
   ]
  },
  {
   "cell_type": "code",
   "execution_count": 9,
   "id": "019cf0df",
   "metadata": {
    "id": "019cf0df"
   },
   "outputs": [],
   "source": [
    "def L_solve(L,rhs):\n",
    "    \"\"\"\n",
    "    Return the solution of a system of equations with lower-triangular matrix, using forward substitution algorithm.\n",
    "    \n",
    "    Parameters\n",
    "    ----------\n",
    "    L : numpy.array\n",
    "        2-d numpy.array representing the upper triangular matrix.\n",
    "    P : numpy.array\n",
    "        2-d numpy.array representing the pivoting matrix\n",
    "    rhs : numpy.array\n",
    "        1-d numpy array representing the known-term vector of the system.\n",
    "    \n",
    "    Returns\n",
    "    -------\n",
    "    out : numpy.array\n",
    "        The solution of the system.\n",
    "    \"\"\"\n",
    "    x = zeros_like(rhs).astype(float)\n",
    "    n = len(rhs)\n",
    "    \n",
    "    x[0] = rhs[0] / L[0,0]\n",
    "    for i in range(1,n):\n",
    "        x[i] = (rhs[i] - dot(L[i,:i],x[:i])) / L[i,i]\n",
    "    \n",
    "    return x"
   ]
  },
  {
   "cell_type": "code",
   "execution_count": 10,
   "id": "26ce17c4",
   "metadata": {
    "id": "26ce17c4"
   },
   "outputs": [],
   "source": [
    "def U_solve(U,rhs):\n",
    "    \"\"\"\n",
    "    Return the solution of a system of equations with upper-triangular matrix, using backward substitution algorithm.\n",
    "    \n",
    "    Parameters\n",
    "    ----------\n",
    "    L : numpy.array\n",
    "        2-d numpy.array representing the upper triangular matrix.\n",
    "    rhs : numpy.array\n",
    "        1-d numpy array representing the known-term vector of the system.\n",
    "    \n",
    "    Returns\n",
    "    -------\n",
    "    out : numpy.array\n",
    "        The solution of the system.\n",
    "    \"\"\"\n",
    "    x = zeros_like(rhs).astype(float)\n",
    "    n = len(rhs)\n",
    "    \n",
    "    x[-1] = rhs[-1] / U[-1,-1]\n",
    "    for i in range(n-1,-1,-1):\n",
    "        x[i] = (rhs[i] - dot(U[i,i+1:],x[i+1:])) / U[i,i]\n",
    "    return x"
   ]
  },
  {
   "cell_type": "markdown",
   "id": "08ac9ba1",
   "metadata": {
    "id": "08ac9ba1"
   },
   "source": [
    "Solve the derived linear system using the implemented functions and plot the computed solution:"
   ]
  },
  {
   "cell_type": "code",
   "execution_count": 11,
   "id": "7c1de4f3",
   "metadata": {
    "id": "7c1de4f3"
   },
   "outputs": [
    {
     "data": {
      "image/png": "[encoded data removed]",
      "text/plain": [
       "<Figure size 432x288 with 1 Axes>"
      ]
     },
     "metadata": {
      "needs_background": "light"
     },
     "output_type": "display_data"
    }
   ],
   "source": [
    "def solve_system(A, b, pivoting = True):\n",
    "    \"\"\"\n",
    "    Return the solution of a system of equations using the LU factorization and then the forward and backward substitution\n",
    "    algorithms.\n",
    "    \n",
    "    Parameters\n",
    "    ----------\n",
    "    A : numpy.array\n",
    "        2-d numpy.array representing the matrix of the system.\n",
    "    rhs : numpy.array\n",
    "        1-d numpy array representing the known-term vector of the system.\n",
    "    pivoting : boolean, optional\n",
    "        True if the LU factorization is computed with pivoting\n",
    "    \n",
    "    Returns\n",
    "    -------\n",
    "    out : numpy.array\n",
    "        The solution of the system.\n",
    "    \"\"\"\n",
    "    \n",
    "    if pivoting:    \n",
    "        L, U, P = LU(A)\n",
    "        b = P.dot(b)\n",
    "        \n",
    "    else:\n",
    "        L, U = LU(A, pivoting = False)\n",
    "        \n",
    "    y = L_solve(L, b)\n",
    "    x = U_solve(U, y)\n",
    "    \n",
    "    return x\n",
    "\n",
    "u = solve_system(A,b)\n",
    "allclose(A.dot(u), b)\n",
    "discr_points = linspace(omega[0],omega[1],n)\n",
    "x = linspace(omega[0],omega[1])\n",
    "plot(discr_points,u, label=\"Finite Differences\")\n",
    "plot(x,f(x), label=\"Exact\")\n",
    "_ = legend()"
   ]
  },
  {
   "cell_type": "markdown",
   "id": "62cdfe65",
   "metadata": {
    "id": "62cdfe65"
   },
   "source": [
    "Considering the new domain $\\Omega = (0,1)$ and the forcing term $f(x) = x(1-x)$ with B.C. $u(x) = 0$, on $\\partial \\Omega = {0,1}$ produce a plot and a table where you show the decay of the error w.r.t. the number of grid points.\n",
    "(The analytical solution for the above problems is $u_{an} = \\frac{x^4}{12} - \\frac{x^3}{6} + \\frac{x}{12}$)"
   ]
  },
  {
   "cell_type": "code",
   "execution_count": 12,
   "id": "91212afb",
   "metadata": {
    "id": "91212afb"
   },
   "outputs": [
    {
     "data": {
      "image/png": "[encoded data removed]",
      "text/plain": [
       "<Figure size 432x288 with 1 Axes>"
      ]
     },
     "metadata": {
      "needs_background": "light"
     },
     "output_type": "display_data"
    }
   ],
   "source": [
    "omega = [0,1]\n",
    "f = lambda x : x*(1. - x)\n",
    "bc = [0,0]\n",
    "exact = lambda x : x**4/12 - x**3/6 + x/12\n",
    "\n",
    "errors = []\n",
    "\n",
    "for n in range(4,20):\n",
    "    A,b = finDif(omega,f,n,bc)\n",
    "    A[0,:] = zeros(n)\n",
    "    A[-1,:] = zeros(n)\n",
    "    A[0,0] = A[-1,-1] = 1\n",
    "    \n",
    "    u = solve_system(A,b)\n",
    "    discr_points = linspace(omega[0],omega[1],n)\n",
    "    \n",
    "    error = max(abs(exact(discr_points) - u))\n",
    "    errors.append(error)\n",
    "\n",
    "_ = plot(range(4,20),errors)\n",
    "#x = linspace(omega[0],omega[1])\n",
    "#plot(discr_points,u, label=\"Finite Differences\")\n",
    "#plot(x,exact(x), label=\"Exact\")\n",
    "#_ = legend()"
   ]
  },
  {
   "cell_type": "code",
   "execution_count": 13,
   "id": "b0154a92",
   "metadata": {
    "scrolled": false
   },
   "outputs": [
    {
     "data": {
      "text/markdown": [
       "| Grid points | Errors |\n",
       "|:---|:---|\n",
       "|4 | 0.00146972|\n",
       "|5 | 0.00137061|\n",
       "|6 | 0.00116923|\n",
       "|7 | 0.0010089|\n",
       "|8 | 0.00088022|\n",
       "|9 | 0.00077894|\n",
       "|10 | 0.00069752|\n",
       "|11 | 0.00063105|\n",
       "|12 | 0.00057586|\n",
       "|13 | 0.00052938|\n",
       "|14 | 0.00048974|\n",
       "|15 | 0.00045555|\n",
       "|16 | 0.00042578|\n",
       "|17 | 0.00039962|\n",
       "|18 | 0.00037647|\n",
       "|19 | 0.00035583|"
      ],
      "text/plain": [
       "<IPython.core.display.Markdown object>"
      ]
     },
     "metadata": {},
     "output_type": "display_data"
    }
   ],
   "source": [
    "out = \"| Grid points | Errors |\\n|:---|:---|\"\n",
    "for i in range(4,20):\n",
    "    out += \"\\n|\" + str(i) + \" | \" + str(round(errors[i-4],8)) +  \"|\"\n",
    "display(Markdown(out))"
   ]
  },
  {
   "cell_type": "markdown",
   "id": "85d5f64e",
   "metadata": {
    "id": "85d5f64e"
   },
   "source": [
    "Compute the inverse of the matrix A exploiting the derived LU factorization"
   ]
  },
  {
   "cell_type": "code",
   "execution_count": 14,
   "id": "622aadf4",
   "metadata": {
    "id": "622aadf4"
   },
   "outputs": [],
   "source": [
    "def inverse(A):\n",
    "    \"\"\"\n",
    "    Return the inverse of the matrix, using the LU factorization.\n",
    "    \n",
    "    Parameters\n",
    "    ----------\n",
    "    A : numpy.array\n",
    "        2-d numpy.array representing the matrix to invert.\n",
    "    \n",
    "    Returns\n",
    "    -------\n",
    "    out : numpy.array\n",
    "        2-d numpy.array representing the inverse of the matrix.\n",
    "    \"\"\"\n",
    "    \n",
    "    n = len(A)\n",
    "    inv_cols = []\n",
    "    \n",
    "    for i in range(n):\n",
    "        e_i = array([[1 if k == i else 0] for k in range(n)])\n",
    "        inv_cols.append(solve_system(A,e_i))\n",
    "        \n",
    "    return column_stack(inv_cols)\n",
    "\n",
    "A_inv = inverse(A)"
   ]
  },
  {
   "cell_type": "markdown",
   "id": "c8d5002f",
   "metadata": {
    "id": "c8d5002f"
   },
   "source": [
    "Exploit the derived LU factorizations to compute the condition number of the system's matrix $A$ using the original problem formulation."
   ]
  },
  {
   "cell_type": "code",
   "execution_count": 15,
   "id": "c25fc1fe",
   "metadata": {
    "id": "c25fc1fe"
   },
   "outputs": [
    {
     "data": {
      "text/plain": [
       "2073.7421848409094"
      ]
     },
     "execution_count": 15,
     "metadata": {},
     "output_type": "execute_result"
    }
   ],
   "source": [
    "def condNumb(A):\n",
    "    \"\"\"\n",
    "    Return the condition number of the matrix, considering the l-infinity norm.\n",
    "    \n",
    "    Parameters\n",
    "    ----------\n",
    "    A : numpy.array\n",
    "        2-d numpy.array representing the matrix for which to calculate the condition number.\n",
    "    \n",
    "    Returns\n",
    "    -------\n",
    "    out : integer\n",
    "        The condition number of the matrix.\n",
    "    \"\"\"\n",
    "    \n",
    "    A_inv = inverse(A)\n",
    "    n = len(A)\n",
    "    \n",
    "    assert allclose(A.dot(A_inv),eye(n)), \"Trubles when computing the inverse of the matrix.\"\n",
    "    \n",
    "    l_infty_norm     = max([sum(abs(A[i,:])) for i in range(n)])\n",
    "    l_infty_norm_inv = max([sum(abs(A_inv[i,:])) for i in range(n)])\n",
    "    \n",
    "    return l_infty_norm * l_infty_norm_inv\n",
    "\n",
    "condNumb(A)"
   ]
  },
  {
   "cell_type": "markdown",
   "id": "36936121",
   "metadata": {
    "id": "36936121"
   },
   "source": [
    "Given the original $Au = b$ system, implement an algorithm to compute the eigenvalues and eigenvectors of the matrix $A$. Exploit the computed LU factorization"
   ]
  },
  {
   "cell_type": "code",
   "execution_count": 22,
   "id": "6ad7199f",
   "metadata": {
    "id": "6ad7199f"
   },
   "outputs": [
    {
     "data": {
      "text/plain": [
       "[-10.869101659671902, 1.89948876031966, 8.147824458507918, 9.821788440621901]"
      ]
     },
     "execution_count": 22,
     "metadata": {},
     "output_type": "execute_result"
    }
   ],
   "source": [
    "# Hypotesis: real eigenvalues\n",
    "def gershgorin(A):\n",
    "    \"\"\"\n",
    "    Return the set of gershgorin circles of the matrix; for every diagonal element, the radius of the corresponding circle\n",
    "    is the minimum between the radius of the row and column circle.\n",
    "    \n",
    "    Parameters\n",
    "    ----------\n",
    "    A : numpy.array\n",
    "        2-d numpy.array representing the matrix for which to calculate the gershgoring circles.\n",
    "    \n",
    "    Returns\n",
    "    -------\n",
    "    out : list\n",
    "        List of lists of two elements. The first element is the centre and the second is the radius of the circle.\n",
    "    \"\"\"\n",
    "    \n",
    "    n = len(A)\n",
    "    circles = []\n",
    "    \n",
    "    # Row circles\n",
    "    for i in range(n):\n",
    "        radius = sum([abs(A[i,j]) if j != i else 0 for j in range(n)])\n",
    "        circles.append([A[i,i],radius])\n",
    "    \n",
    "    # Columns circles\n",
    "    for j in range(n):\n",
    "        radius = sum([abs(A[i,j]) if i != j else 0 for i in range(n)])\n",
    "        circles[j][1] = min(circles[j][1], radius)\n",
    "          \n",
    "    return circles\n",
    "\n",
    "def eig_ranges(A):\n",
    "    \"\"\"\n",
    "    Return a list containing the indexes of the connected components of the union of the gershgorin circles.\n",
    "    \n",
    "    Parameters\n",
    "    ----------\n",
    "    A : numpy.array\n",
    "        2-d numpy.array representing the matrix.\n",
    "    \n",
    "    Returns\n",
    "    -------\n",
    "    out : list\n",
    "        List of lists. Every element represents a connected component of the union, and contains the indexes of the list of\n",
    "        circles that belong to that component.\n",
    "    \"\"\"\n",
    "    circles = gershgorin(A)\n",
    "    n = len(A)\n",
    "    union = [[0]]\n",
    "    \n",
    "    circles = sorted(circles, key=lambda x:x[0]) # Sorted according to the center\n",
    "\n",
    "    for i in range(1,n):\n",
    "        prev_circ_right_boundary = circles[i-1][0] + circles[i-1][1]\n",
    "        cur_circ_left_boundary = circles[i][0] - circles[i][1]\n",
    "        if(prev_circ_right_boundary > cur_circ_left_boundary):\n",
    "            for j in range(len(union)):\n",
    "                if i-1 in union[j]:\n",
    "                    union[j].append(i)\n",
    "        else:\n",
    "            union.append([i])\n",
    "            \n",
    "    return union, circles\n",
    "\n",
    "def shifted_power_method(A,shift=0,epsilon = 1e-8,max_iter = 1e4):\n",
    "    \"\"\"\n",
    "    Return the eigenvalue of the matrix A computed with the shifted power method, using a given shift.\n",
    "    \n",
    "    Parameters\n",
    "    ----------\n",
    "    A : numpy.array\n",
    "        2-d numpy.array representing the matrix.\n",
    "    shift : float, optional\n",
    "        the shift of the power method; default is 0 (standard power method)\n",
    "    epsilon : float, optional\n",
    "        threshold of the distance between two eigenvalues computed in two subsequent iterations; default is 1e-8\n",
    "    max_iter : integer, optional\n",
    "        maximum number of iterations, deafult is 1e4\n",
    "    \n",
    "    Returns\n",
    "    -------\n",
    "    out : integer\n",
    "        Eigenvalue computed with the shifted power method.\n",
    "    \"\"\"\n",
    "    \n",
    "    n = len(A)\n",
    "    A_shift = A - shift*eye(n)\n",
    "    A_shift_inverse = inverse(A_shift)\n",
    "        \n",
    "    assert allclose(A_shift.dot(A_shift_inverse),eye(n)), \"Trubles when computing the inverse of the matrix.\"\n",
    "    \n",
    "    x = ones(n)\n",
    "    y = x / linalg.norm(x)\n",
    "    err = 1\n",
    "    n_iter = 0\n",
    "    eig_prec = 0\n",
    "    eig_cur = 0\n",
    "    \n",
    "    while n_iter < max_iter and err > epsilon * eig_cur:\n",
    "    \n",
    "        x = A_shift_inverse.dot(y)\n",
    "        y = x / linalg.norm(x)\n",
    "        eig_cur = 1./(dot(y.dot(A_shift_inverse),y))\n",
    "        \n",
    "        err = abs(eig_cur - eig_prec)\n",
    "        eig_prec = eig_cur\n",
    "        n_iter += 1\n",
    "        \n",
    "    return eig_cur + shift\n",
    "\n",
    "def eigenvalues(A, epsilon = 1e-8, max_iter = 1e4):\n",
    "    \"\"\"\n",
    "    Return all the real eigenvalues of the matrix A.\n",
    "    \n",
    "    Parameters\n",
    "    ----------\n",
    "    A : numpy.array\n",
    "        2-d numpy.array representing the matrix for which to compute the eigenvalues.\n",
    "    epsilon : float, optional\n",
    "        threshold of the distance between two eigenvalues computed in two subsequent iterations; default is 1e-8\n",
    "    max_iter : integer, optional\n",
    "        maximum number of iterations for every eigenvalue to compute, deafult is 1e4\n",
    "    \n",
    "    Returns\n",
    "    -------\n",
    "    out : integer\n",
    "        Eigenvalue computed with the shifted power method.\n",
    "    \"\"\"\n",
    "    \n",
    "    ranges, circles = eig_ranges(A)\n",
    "    eigenvalues = []\n",
    "    \n",
    "    for interval in ranges:        \n",
    "        for i in range(len(interval)):\n",
    "            center = circles[interval[i]][0]\n",
    "            shift = random.normal(loc = center)\n",
    "            eigenvalues.append(shifted_power_method(A, shift, epsilon, max_iter))\n",
    "    \n",
    "    return eigenvalues\n",
    "\n",
    "ex = np.array([[10,-1,0,1],\\\n",
    "               [0.2,8,0.2,0.2],\\\n",
    "               [1,1,2,1],\\\n",
    "               [-1,-1,-1,-11]])\n",
    "\n",
    "res = eigenvalues(ex)\n",
    "res"
   ]
  },
  {
   "cell_type": "markdown",
   "id": "2728b49a",
   "metadata": {
    "id": "2728b49a"
   },
   "source": [
    "Implement a preconditioned Conjugant Gradient method to solve the original linear system of equations using an iterative method:"
   ]
  },
  {
   "cell_type": "code",
   "execution_count": 149,
   "id": "62b83aee",
   "metadata": {
    "id": "62b83aee"
   },
   "outputs": [
    {
     "data": {
      "image/png": "[encoded data removed]",
      "text/plain": [
       "<Figure size 432x288 with 1 Axes>"
      ]
     },
     "metadata": {
      "needs_background": "light"
     },
     "output_type": "display_data"
    }
   ],
   "source": [
    "def conjugate_gradient(A, b, P, nmax=1e6, eps=1e-10):\n",
    "    \"\"\"\n",
    "    Return the result of a preconditioned conjugant gradient method.\n",
    "    \n",
    "    Parameters\n",
    "    ----------\n",
    "    A : numpy.array\n",
    "        2-d numpy.array representing the matrix for which to, approximately, solve the linear system.\n",
    "    b : numpy.array\n",
    "        array of known terms of the system (rhs vector).\n",
    "    P : numpy.array\n",
    "        2-d numpy.array representing the preconditioner of the method.\n",
    "    nmax : integer, optional\n",
    "        maximum number of iterations of the method; default is len(A).\n",
    "    eps : float, optional\n",
    "        threshold of the error between the residuals of two subsequent iterations; default is 1e-10.\n",
    "    \n",
    "    Returns\n",
    "    -------\n",
    "    out : numpy.array\n",
    "        The approximate solution of the linear system.\n",
    "    \"\"\"\n",
    "    \n",
    "    # assert A is s.p.d\n",
    "    #assert allclose(A, A.T), \"The matrix is not symmetric\"\n",
    "    \n",
    "    A = array(A, dtype=\"float\")\n",
    "    b = array(b, dtype=\"float\")\n",
    "    \n",
    "    n = len(A)\n",
    "    x = ones(n)\n",
    "    r = b - A.dot(x)\n",
    "    z = solve_system(P,r)\n",
    "    p = z\n",
    "    n_iter = 0\n",
    "    \n",
    "    while n_iter < nmax and linalg.norm(r) > eps:\n",
    "        alpha = dot(p,r) / dot(A.dot(p),p)\n",
    "        x = x + alpha * p\n",
    "        r = r  - alpha*A.dot(p)\n",
    "        z = solve_system(P,r)\n",
    "        beta = dot(z,A.dot(p)) / dot(p,A.dot(p))\n",
    "        p =  z - beta*p\n",
    "        \n",
    "        n_iter += 1\n",
    "    \n",
    "    return x\n",
    "\n",
    "omega = [0,pi]\n",
    "f = lambda x : sin(x)\n",
    "n = 20\n",
    "bc = [0,0]\n",
    "A, b = finDif(omega, f, n, bc)\n",
    "\n",
    "#A[0,:] = zeros(n)\n",
    "#A[-1,:] = zeros(n)\n",
    "#A[0,0] = A[-1,-1] = 1\n",
    "\n",
    "u = conjugate_gradient(A,b, diag(A)*eye(n))\n",
    "allclose(A.dot(u), b)\n",
    "\n",
    "discr_points = linspace(omega[0],omega[1],n)\n",
    "x = linspace(omega[0],omega[1])\n",
    "plot(discr_points,u, label=\"Finite Differences\")\n",
    "plot(x,f(x), label=\"Exact\")\n",
    "_ = legend()"
   ]
  },
  {
   "cell_type": "markdown",
   "id": "cb22566e",
   "metadata": {
    "id": "cb22566e"
   },
   "source": [
    "Consider the following Cauchy problem\n",
    "$$\n",
    "\\begin{cases}\n",
    "y'= -ty^2 \\quad 0\\le t \\le 2\\\\\n",
    "y(0) = 1\n",
    "\\end{cases}\n",
    "$$\n",
    "Implement a Backward Euler's method in a suitable function and solve the resulting non-linear equation using a Newton's method."
   ]
  },
  {
   "cell_type": "code",
   "execution_count": 38,
   "id": "e491f537",
   "metadata": {},
   "outputs": [],
   "source": [
    "def newton(f, x0, eps = 1e-10, n_max = 1000):\n",
    "    \"\"\"\n",
    "    Return the zero of the function using the Newton's method.\n",
    "    \n",
    "    Parameters\n",
    "    ----------\n",
    "    f : function\n",
    "        Function for which to compute the zero.\n",
    "    x0 : float\n",
    "        Starting point of the method.\n",
    "    eps : float, optional\n",
    "        Threshold of the difference between two iterations.\n",
    "    n_max : integer\n",
    "        Maximum number of iterations to use in the method.\n",
    "    \n",
    "    Returns\n",
    "    -------\n",
    "    out : float\n",
    "        The approximate root of the function near the starting point.\n",
    "    \"\"\"\n",
    "    \n",
    "    w = symbols(\"w\")\n",
    "    f_prime_sympy = diff(f(w))\n",
    "    f_prime = lambdify(w,f_prime_sympy)\n",
    "    \n",
    "    assert abs(f_prime(x0)) > 1e-16, \"Negative derivative in x0.\" # check that the derivative is not 0\n",
    "    err = abs(f(x0))\n",
    "    it = 0\n",
    "    x = x0 # current x\n",
    "    while it < n_max and err > eps:\n",
    "        q = f_prime(x)\n",
    "        x_new = x - f(x) / q\n",
    "        err = abs(f(x_new))\n",
    "        it += 1\n",
    "        x = x_new\n",
    "    \n",
    "    return x_new"
   ]
  },
  {
   "cell_type": "code",
   "execution_count": 73,
   "id": "3184e358",
   "metadata": {
    "id": "3184e358"
   },
   "outputs": [
    {
     "data": {
      "image/png": "[encoded data removed]",
      "text/plain": [
       "<Figure size 432x288 with 1 Axes>"
      ]
     },
     "metadata": {
      "needs_background": "light"
     },
     "output_type": "display_data"
    }
   ],
   "source": [
    "def backward_euler(omega, ic, f, num_discr_points):\n",
    "    \"\"\"\n",
    "    Return the numerical approximation of the given Cauchy problem.\n",
    "    \n",
    "    Parameters\n",
    "    ----------\n",
    "    omega : list\n",
    "        List of two elements; the first is the lower bound of the interval of the problem,\n",
    "        the second is the upper bound of the interval.\n",
    "    ic : float\n",
    "        Initial condition of the problem.\n",
    "    f : function\n",
    "        Forcing function of two variables of the problem; the first variable is t, the second is u. \n",
    "    num_discr_points : integer\n",
    "        Number of discretization points to use in the approximation.\n",
    "    \n",
    "    Returns\n",
    "    -------\n",
    "    out : numpy.array\n",
    "        The approximate solution of the Cauchy problem; the len(out) = discr_points.\n",
    "    \"\"\"\n",
    "    \n",
    "    u = np.zeros(num_discr_points)\n",
    "    t = linspace(omega[0],omega[1],num_discr_points)\n",
    "    h = (omega[1] - omega[0]) / num_discr_points\n",
    "    \n",
    "    u[0] = ic\n",
    "    \n",
    "    for i in range(1,num_discr_points):\n",
    "        _phi = lambda u_n : u[i - 1] + h * f(t[i], u_n)\n",
    "        _F = lambda u_n : u_n - _phi(u_n)\n",
    "        u[i] = newton(_F,u[i-1])\n",
    "\n",
    "    \n",
    "    return t, u\n",
    "\n",
    "def f(t,y):\n",
    "    return -t * (y**2)\n",
    "ic = 1\n",
    "omega = [0,2]\n",
    "\n",
    "exact = lambda t : 2 / (t**2 + 2)\n",
    "t = linspace(omega[0],omega[1],1000)\n",
    "plot(t,exact(t),label=\"Exact\")\n",
    "\n",
    "for i in (2,4,32,128):\n",
    "    t,u = backward_euler(omega,ic,f,i)\n",
    "    plot(t,u,label=str(i))\n",
    "_ = legend(title = \"Discr points\")"
   ]
  },
  {
   "cell_type": "markdown",
   "id": "8a4cfc02",
   "metadata": {
    "id": "8a4cfc02"
   },
   "source": [
    "Consider the following time dependent variation of the PDE starting from the orginal problem formulation:\n",
    "$$\n",
    "u_t -u_{xx} = \\alpha(t)f(x)\n",
    "$$\n",
    "\n",
    "for $t\\in [0,T]$, with $\\alpha(t) = \\cos(t)$ and $T = 6\\pi$\n",
    "\n",
    "Use the same finite difference scheme to derive the semi-discrete formulation and solve it using a forward Euler's method.\n",
    "\n",
    "Plot the time dependent solution solution at $x = \\pi/2$, $x=1$, \n",
    "$x=\\pi$\n"
   ]
  },
  {
   "cell_type": "markdown",
   "id": "2d34b712",
   "metadata": {},
   "source": [
    "#### Proposed solution\n",
    "Both the time and space intervals will be discretized.<br>\n",
    "- Space interval $\\Omega$ will be discretized in a sequence of points $x_i = i * h_x$, $i = 0,...,N_x$ where $h_x = \\frac{\\pi}{N_x-1}$ and $N_x$ is the number of discretization points in the space interval.\n",
    "- Time interval $[0,T]$ will be discretized in a sequence of points $t_i = i * h_t$, $i = 0,...,N_t$ where $h_t = \\frac{T}{N_x-1}$ and $N_t$ is the number of discretization points in the time interval.\n",
    "The problem is reformulated as:\n",
    "\n",
    "$$\n",
    "\\begin{cases}\n",
    "u_t = u_{xx} + a(t)f(x) \\\\\n",
    "u(0,t) = u(\\pi,t) = 0 &, \\forall \\ t \\in [0,T]\\\\\n",
    "u(x,0) = u_o(x) &, \\forall \\ x \\in [0,\\pi]\n",
    "\\end{cases}$$\n",
    "<br>\n",
    "Where $u_o(x)$ is the solution of the problem $-u_{xx} = f(x)$ with the same boundary conditions.\n",
    "<br>\n",
    "The second pure partial derivative in respect to $x$ is approximated with the finite differences scheme of the original problem, hence\n",
    "\n",
    "$$u_t(t,x_i) = \\frac{-u(t,x_{i-2}) + 16u(t,x_{i-1})-30u(t,x_i) + 16u(t,x_{i+1}) - u(t,x_{i+2})}{12h_x^2} + a(t)f(x_i)$$\n",
    "\n",
    "This equation can be rewritten as follows\n",
    "\n",
    "$$\\boldsymbol{u_t}(t) = A\\boldsymbol{u}(t) + a(t)\\boldsymbol{f}$$\n",
    "\n",
    "Where $\\boldsymbol{u_t}(t) = (u_t(t,x_0),u_t(t,x_1),...,u_t(t,x_{N_x}))^T$, $\\boldsymbol{u}(t) = (u(t,x_0),u(t,x_1),...,u(t,x_{N_x}))^T$ and $\\boldsymbol{f}(t) = (f(x_0),f(x_1),...,f(x_{N_x}))^T$\n",
    "<br>\n",
    "At this point it is present a system of ordinary differential equation which can be solved using the forward Euler method:\n",
    "\n",
    "$$\\boldsymbol{u_t}(t_j) = \\frac{\\boldsymbol{u}(t_{j+1}) - \\boldsymbol{u}(t_j)}{h_t} \\ , \\ j = 0,...,N_t - 1$$\n",
    "\n",
    "$$\\Rightarrow \\frac{\\boldsymbol{u}_{j+1} - \\boldsymbol{u}_j}{h_t} = \\boldsymbol{u_t}(t_j) =  A\\boldsymbol{u}_j + \\boldsymbol{a}_j\\boldsymbol{f}$$\n",
    "\n",
    "$$\\Rightarrow \\boldsymbol{u}_{j+1} = (I + h_tA)\\boldsymbol{u}_j + h_t\\boldsymbol{a}_j\\boldsymbol{f} \\ , \\ j = 0,...,N_t - 1$$\n",
    "\n",
    "Where $\\boldsymbol{u}_j = u(t_j)$ and $I$ is the identity matrix."
   ]
  },
  {
   "cell_type": "code",
   "execution_count": null,
   "id": "3ffe0689",
   "metadata": {
    "id": "3ffe0689"
   },
   "outputs": [],
   "source": [
    "#TODO"
   ]
  }
 ],
 "metadata": {
  "colab": {
   "name": "FinalProject-2021-2022.ipynb",
   "provenance": []
  },
  "kernelspec": {
   "display_name": "Python 3 (ipykernel)",
   "language": "python",
   "name": "python3"
  },
  "language_info": {
   "codemirror_mode": {
    "name": "ipython",
    "version": 3
   },
   "file_extension": ".py",
   "mimetype": "text/x-python",
   "name": "python",
   "nbconvert_exporter": "python",
   "pygments_lexer": "ipython3",
   "version": "3.10.4"
  }
 },
 "nbformat": 4,
 "nbformat_minor": 5
}
